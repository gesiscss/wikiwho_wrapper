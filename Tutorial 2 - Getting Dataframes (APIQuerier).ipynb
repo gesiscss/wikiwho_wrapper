{
 "cells": [
  {
   "cell_type": "markdown",
   "metadata": {},
   "source": [
    "# Tutorial 2: Getting Dataframes (API Querier)\n",
    "\n",
    "The APIQuerier uses the WikiWhoAPI to return the data in pandas DataFrames."
   ]
  },
  {
   "cell_type": "markdown",
   "metadata": {},
   "source": [
    "## 1. Create an instance of APIQuerier"
   ]
  },
  {
   "cell_type": "code",
   "execution_count": null,
   "metadata": {},
   "outputs": [],
   "source": [
    "from wikiwho_wrapper import WikiWhoAPI, APIQuerier\n",
    "\n",
    "api = WikiWhoAPI()\n",
    "querier = APIQuerier(api)"
   ]
  },
  {
   "cell_type": "markdown",
   "metadata": {},
   "source": [
    "## 2. Retrieving pandas DataFrames\n",
    "\n",
    "The APIQuerier has exactly the same functions (**and parameters**) as the WikiWhoAPI and they are mapped one to one:\n",
    "\n",
    "- `all_content()`\n",
    "- `rev_ids_of_article()`\n",
    "- `last_rev_content()`\n",
    "- `specific_rev_content_by_rev_id()`\n",
    "- `range_rev_content_by_article_title()`\n",
    "\n",
    "This is how you use them."
   ]
  },
  {
   "cell_type": "markdown",
   "metadata": {},
   "source": [
    "### 2.1 All Content"
   ]
  },
  {
   "cell_type": "code",
   "execution_count": null,
   "metadata": {},
   "outputs": [],
   "source": [
    "df = querier.all_content(\n",
    "    article='bioglass') # or, querier.all_content(2161298)\n",
    "df.head(3)"
   ]
  },
  {
   "cell_type": "markdown",
   "metadata": {},
   "source": [
    "### 2.2 Revision IDS"
   ]
  },
  {
   "cell_type": "code",
   "execution_count": null,
   "metadata": {},
   "outputs": [],
   "source": [
    "df = querier.rev_ids_of_article(\n",
    "    article='bioglass') # or, querier.rev_ids_of_article(2161298)\n",
    "df.head(3)"
   ]
  },
  {
   "cell_type": "markdown",
   "metadata": {},
   "source": [
    "### 2.3 Revision Content"
   ]
  },
  {
   "cell_type": "code",
   "execution_count": null,
   "metadata": {},
   "outputs": [],
   "source": [
    "df = querier.last_rev_content(\n",
    "    article='bioglass') # or, querier.last_rev_content(2161298)\n",
    "df.head(3)"
   ]
  },
  {
   "cell_type": "code",
   "execution_count": null,
   "metadata": {},
   "outputs": [],
   "source": [
    "df = querier.specific_rev_content_by_rev_id(\n",
    "    rev_id=189370281) #or, querier.specific_rev_content_by_article_title(article='bioglass', rev_id=189370281)\n",
    "df.head(3)"
   ]
  },
  {
   "cell_type": "code",
   "execution_count": null,
   "metadata": {},
   "outputs": [],
   "source": [
    "df = querier.range_rev_content_by_article_title(\n",
    "    article='bioglass',  start_rev_id=18064039,  end_rev_id=207995408)\n",
    "df.head(3)"
   ]
  },
  {
   "cell_type": "markdown",
   "metadata": {},
   "source": [
    "## 3. Summary\n",
    "\n",
    "You just learn how to use the functions of the APIWrapper. The next tutorial will show simple examples how to extract some information of the `all_content()` function"
   ]
  }
 ],
 "metadata": {
  "kernelspec": {
   "display_name": "Python 3",
   "language": "python",
   "name": "python3"
  },
  "language_info": {
   "codemirror_mode": {
    "name": "ipython",
    "version": 3
   },
   "file_extension": ".py",
   "mimetype": "text/x-python",
   "name": "python",
   "nbconvert_exporter": "python",
   "pygments_lexer": "ipython3",
   "version": "3.6.6"
  }
 },
 "nbformat": 4,
 "nbformat_minor": 2
}
