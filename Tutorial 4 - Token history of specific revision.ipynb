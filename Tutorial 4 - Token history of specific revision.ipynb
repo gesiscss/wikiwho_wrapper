{
 "cells": [
  {
   "cell_type": "markdown",
   "metadata": {},
   "source": [
    "# Tutorial 4: Token history of specific revision\n",
    "\n",
    "The previous tutorial explain how to analyze the history of all tokens. In this case we will limit the history to one revision.\n",
    "\n",
    "In order to do this, two functions `all_content()` and `specific_rev_content_by_article_title()` are required."
   ]
  },
  {
   "cell_type": "markdown",
   "metadata": {},
   "source": [
    "## 1. Set Up the dataframes"
   ]
  },
  {
   "cell_type": "code",
   "execution_count": null,
   "metadata": {},
   "outputs": [],
   "source": [
    "import pandas as pd\n",
    "from wikiwho_wrapper import WikiWhoAPI, APIQuerier\n",
    "api = WikiWhoAPI()\n",
    "querier = APIQuerier(api)\n",
    "\n",
    "all_tokens_history = querier.all_content(\"bioglass\")\n",
    "specific_revision = querier.specific_rev_content_by_article_title(article='bioglass', rev_id=189370281)"
   ]
  },
  {
   "cell_type": "markdown",
   "metadata": {},
   "source": [
    "## 2. Merge the dataframes"
   ]
  },
  {
   "cell_type": "code",
   "execution_count": null,
   "metadata": {},
   "outputs": [],
   "source": [
    "df = pd.merge(\n",
    "    specific_revision, all_tokens_history[['token_id', 'in', 'out']], \n",
    "    how='left', on='token_id')\n",
    "df.head()\n"
   ]
  },
  {
   "cell_type": "markdown",
   "metadata": {},
   "source": [
    "## 3. Filtering the dataframe\n",
    "\n",
    "At this point we could apply any of the new operations learn in the last tutorial. However, we need to consider that all token history is present in the current revision. \n",
    "\n",
    "**Since this is a revision of the past, we would still see the revisions made for token in the future**.\n",
    "\n",
    "Let's remove all future revisions from `in` and `out` (depends on the assumptions that wikipedia revisions ids are incremental and sorted by time):"
   ]
  },
  {
   "cell_type": "code",
   "execution_count": null,
   "metadata": {},
   "outputs": [],
   "source": [
    "df = df[(df['in'] <= df['rev_id'])]\n",
    "df.loc[df['out'] > df['rev_id'],'out'] = -1\n",
    "df.head()"
   ]
  }
 ],
 "metadata": {
  "kernelspec": {
   "display_name": "Python 3",
   "language": "python",
   "name": "python3"
  },
  "language_info": {
   "codemirror_mode": {
    "name": "ipython",
    "version": 3
   },
   "file_extension": ".py",
   "mimetype": "text/x-python",
   "name": "python",
   "nbconvert_exporter": "python",
   "pygments_lexer": "ipython3",
   "version": "3.6.6"
  }
 },
 "nbformat": 4,
 "nbformat_minor": 2
}
