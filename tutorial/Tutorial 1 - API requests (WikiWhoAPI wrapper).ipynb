{
 "cells": [
  {
   "cell_type": "markdown",
   "metadata": {},
   "source": [
    "# Tutorial 1: API requests (WikiWhoAPI wrapper)\n",
    "\n",
    "The WikiWhoAPI wraps all the [WikiWho API](https://api.wikiwho.net/en/api/v1.0.0-beta/) requests into functions that are easy to use. \n",
    "\n",
    "\n"
   ]
  },
  {
   "cell_type": "markdown",
   "metadata": {},
   "source": [
    "## 1. Create an instance of WikiWhoAPI"
   ]
  },
  {
   "cell_type": "code",
   "execution_count": null,
   "metadata": {},
   "outputs": [],
   "source": [
    "from wikiwho_wrapper import WikiWhoAPI, APIQuerier\n",
    "api = WikiWhoAPI(lng='en')"
   ]
  },
  {
   "cell_type": "markdown",
   "metadata": {},
   "source": [
    "#### Parameters of WikiWhoAPI\n",
    "\n",
    "- *wikiwho_api_username* (str, optional): WikiWho API username\n",
    "- *wikiwho_api_password* (str, optional): WikiWho API password\n",
    "- *wikiwho_api_key* (str, optional): WikiWho API key\n",
    "- *lng* (str, optional): the language that needs to be query\n",
    "- *protocol* (str, optional): the protocol of the url\n",
    "- *domain* (str, optional): the domain that hosts the api\n",
    "- *version* (str, optional): the version of the api\n",
    "- *attempts* (int, optional): the number of attempts before giving up trying to connect"
   ]
  },
  {
   "cell_type": "markdown",
   "metadata": {},
   "source": [
    "## 2. Querying all content\n",
    "\n",
    "\n",
    "One unique method `all_content()` corresponding to the following requests:\n",
    "\n",
    "    GET /all_content/{article_title}/ \n",
    "    GET /all_content/{article_id}/ "
   ]
  },
  {
   "cell_type": "code",
   "execution_count": null,
   "metadata": {},
   "outputs": [],
   "source": [
    "api.all_content(\"bioglass\")"
   ]
  },
  {
   "cell_type": "markdown",
   "metadata": {},
   "source": [
    "***You can also use all the parameters of the [WikiWho API](https://api.wikiwho.net/en/api/v1.0.0-beta/)***\n",
    "\n",
    "- *article* (Union[int, str]): page id (int) or title (str) of the page.\n",
    "- *o_rev_id* (bool, optional): Origin revision ID per token\n",
    "- *editor* (bool, optional): Editor ID/Name per token\n",
    "- *token_id* (bool, optional): Token ID per token\n",
    "- *out* (bool, optional): Outbound revision IDs per token\n",
    "- *_in* (bool, optional): Outbound revision IDs per token"
   ]
  },
  {
   "cell_type": "markdown",
   "metadata": {},
   "source": [
    "## 3. Query Revisions IDS\n",
    "\n",
    "One unique method `rev_ids_of_article()` corresponding to the following requests:\n",
    "\n",
    "    GET /rev_ids/{article_title}/\n",
    "    GET /rev_ids/page_id/{page_id}/\n",
    "    \n",
    "As in the previous case, ***You can also use all the parameters of the [WikiWho API](https://api.wikiwho.net/en/api/v1.0.0-beta/)***"
   ]
  },
  {
   "cell_type": "code",
   "execution_count": null,
   "metadata": {},
   "outputs": [],
   "source": [
    "api.rev_ids_of_article(article='bioglass')"
   ]
  },
  {
   "cell_type": "markdown",
   "metadata": {},
   "source": [
    "## 4. Query the content of specific revisions\n",
    "\n",
    "In this case there are three methods that match the 5 different requests:\n",
    "\n",
    "- `last_rev_content()`:\n",
    "\n",
    "        GET /rev_content/{article_title}/\n",
    "        GET /rev_content/page_id/{page_id}/\n",
    "    \n",
    "- `specific_rev_content_by_rev_id()`:\n",
    "    \n",
    "        GET /rev_content/{article_title}/{rev_id}/ \n",
    "        GET /rev_content/rev_id/{rev_id}\n",
    "\n",
    "- `range_rev_content_by_article_title()`:\n",
    "\n",
    "        GET /rev_content/{article_title}/{start_rev_id}/{end_rev_id}/ \n",
    "\n",
    "    \n",
    "As in the previous case, ***You can also use all the parameters of the [WikiWho API](https://api.wikiwho.net/en/api/v1.0.0-beta/)***"
   ]
  },
  {
   "cell_type": "code",
   "execution_count": null,
   "metadata": {},
   "outputs": [],
   "source": [
    "api.range_rev_content_by_article_title(article='bioglass',  start_rev_id=18064039,  end_rev_id=207995408)"
   ]
  },
  {
   "cell_type": "markdown",
   "metadata": {},
   "source": [
    "## 5. Summary\n",
    "\n",
    "Although in the [WikiWho API](https://api.wikiwho.net/en/api/v1.0.0-beta/), there are 9 types of requests, the wrapper reduces it to 5 functions by exploting the fact that a lot of this requests only vary in the type of the paramater for the page, i.e. id(`int`) or title(`str`):\n",
    "\n",
    "Here is the complete list of functions\n",
    "\n",
    "- `all_content()`\n",
    "- `rev_ids_of_article()`\n",
    "- `last_rev_content()`\n",
    "- `specific_rev_content_by_rev_id()`\n",
    "- `range_rev_content_by_article_title()`\n",
    "\n",
    "Although, the JSON format of this request is useful for certain tasks that involves extracting detail information, in many occasions you may preffer to work with a table representation of the date. The next tutorial will show you that you can get the a pandas DataFrame instead, by using the APIQuerier.\n"
   ]
  }
 ],
 "metadata": {
  "kernelspec": {
   "display_name": "Python 3",
   "language": "python",
   "name": "python3"
  },
  "language_info": {
   "codemirror_mode": {
    "name": "ipython",
    "version": 3
   },
   "file_extension": ".py",
   "mimetype": "text/x-python",
   "name": "python",
   "nbconvert_exporter": "python",
   "pygments_lexer": "ipython3",
   "version": "3.6.6"
  }
 },
 "nbformat": 4,
 "nbformat_minor": 2
}
