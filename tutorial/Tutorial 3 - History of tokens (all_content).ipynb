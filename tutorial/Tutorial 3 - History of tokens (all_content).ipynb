{
 "cells": [
  {
   "cell_type": "markdown",
   "metadata": {},
   "source": [
    "# Tutorial 3: History of tokens (all_content)"
   ]
  },
  {
   "cell_type": "markdown",
   "metadata": {},
   "source": [
    "# 1. Querying all content\n"
   ]
  },
  {
   "cell_type": "code",
   "execution_count": null,
   "metadata": {},
   "outputs": [],
   "source": [
    "from wikiwho_wrapper import WikiWhoAPI, APIQuerier\n",
    "api = WikiWhoAPI()\n",
    "querier = APIQuerier(api)\n",
    "df = querier.all_content(article=\"bioglass\") \n",
    "df.head(3)"
   ]
  },
  {
   "cell_type": "markdown",
   "metadata": {},
   "source": [
    "The above columns DataFrame columns deserve an explanation:\n",
    "\n",
    " - **article_title**: the name of the title\n",
    " - **page_id**: the id of the title\n",
    " - **o_rev_id**: The ID of the revision where the token was added for the first time in the article.\n",
    " - **o_editor**: The user ID of the editor that added the token for the first time (directly related to o_rev_id). User IDs are integers, are unique for the whole Wikipedia and can be used to fetch the current name of a user. \n",
    " - **token**: Actual token value as string. A token can appear multiple times, i.e. it is not unique. This is because a word can be repeated in the document.\n",
    " - **token_id**: The token ID assigned internally by the WikiWho algorithm. The token_id describe a token uniquely because it takes into consideration the context in which the token appear (e.g. paragraph, sentence, position in the sentence). \n",
    " - **in**: revision in which the token has been reinserted\n",
    " - **out**: revision in which the token has been removed\n",
    "\n"
   ]
  },
  {
   "cell_type": "markdown",
   "metadata": {},
   "source": [
    "# 2. Cases for in and out columns\n",
    "\n",
    "The `in` and `out` columns are useful to extract information regarding the history of a token. Here are some cases"
   ]
  },
  {
   "cell_type": "markdown",
   "metadata": {},
   "source": [
    "## 2.1 Multiple editions\n",
    "\n",
    "The token \"sida\" originally inserted in revision '189370281', deleted in '189370332', reinserted in '189371159', deleted again in '189371182', reinserted again in '189537330', and finaly deleted in '191585577'."
   ]
  },
  {
   "cell_type": "code",
   "execution_count": null,
   "metadata": {},
   "outputs": [],
   "source": [
    "df[df['token_id'] == 378]"
   ]
  },
  {
   "cell_type": "markdown",
   "metadata": {},
   "source": [
    "## 2.2 Reinserted token\n",
    "The token 'bioglass' originally inserted in revision '18064039', deleted in '758323388', and reinserted in '758323485'."
   ]
  },
  {
   "cell_type": "code",
   "execution_count": null,
   "metadata": {},
   "outputs": [],
   "source": [
    "df[df['token_id'] == 0]"
   ]
  },
  {
   "cell_type": "markdown",
   "metadata": {},
   "source": [
    "## 2.3 Never deleted token\n",
    "The token 'is' inserted in revision '18064039' and never taken out."
   ]
  },
  {
   "cell_type": "code",
   "execution_count": null,
   "metadata": {},
   "outputs": [],
   "source": [
    "df[df['token_id'] == 2]"
   ]
  },
  {
   "cell_type": "markdown",
   "metadata": {},
   "source": [
    "# 3. Basic filters on the dataframe\n",
    "\n",
    "A `-1`  in the `in` column means that there was no reinsertion, i.e. it was a first-time insertion (`o_rev_id`).\n",
    "\n",
    "A `-1` in the `out` column means that the token was not taken out for the corresponding `o_rev_id` or `in` first-time insertion or reinsertion.\n",
    "\n",
    "This can be used to filter interesting information."
   ]
  },
  {
   "cell_type": "markdown",
   "metadata": {},
   "source": [
    "## 3.1 (First-time) token insertions"
   ]
  },
  {
   "cell_type": "code",
   "execution_count": null,
   "metadata": {},
   "outputs": [],
   "source": [
    "df[df['in'] == -1].head()"
   ]
  },
  {
   "cell_type": "markdown",
   "metadata": {},
   "source": [
    "## 3.2 Token reinsertions"
   ]
  },
  {
   "cell_type": "code",
   "execution_count": null,
   "metadata": {},
   "outputs": [],
   "source": [
    "df[df['in'] != -1].head()"
   ]
  },
  {
   "cell_type": "markdown",
   "metadata": {},
   "source": [
    "## 3.3 Token Deletions"
   ]
  },
  {
   "cell_type": "code",
   "execution_count": null,
   "metadata": {},
   "outputs": [],
   "source": [
    "df[df['out'] != -1].head()"
   ]
  },
  {
   "cell_type": "markdown",
   "metadata": {},
   "source": [
    "## 3.4 Tokens that still exists in the page"
   ]
  },
  {
   "cell_type": "code",
   "execution_count": null,
   "metadata": {},
   "outputs": [],
   "source": [
    "df[df['out'] == -1].head()"
   ]
  },
  {
   "cell_type": "markdown",
   "metadata": {},
   "source": [
    "## 3.5 Counting the number of times that each token has been inserted or inserted"
   ]
  },
  {
   "cell_type": "code",
   "execution_count": null,
   "metadata": {},
   "outputs": [],
   "source": [
    "sizes = df.groupby(['token_id']).size().sort_values(ascending=False)\n",
    "sizes.head(10)\n"
   ]
  }
 ],
 "metadata": {
  "kernelspec": {
   "display_name": "Python 3",
   "language": "python",
   "name": "python3"
  },
  "language_info": {
   "codemirror_mode": {
    "name": "ipython",
    "version": 3
   },
   "file_extension": ".py",
   "mimetype": "text/x-python",
   "name": "python",
   "nbconvert_exporter": "python",
   "pygments_lexer": "ipython3",
   "version": "3.6.6"
  }
 },
 "nbformat": 4,
 "nbformat_minor": 2
}
