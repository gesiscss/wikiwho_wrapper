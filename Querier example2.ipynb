{
 "cells": [
  {
   "cell_type": "code",
   "execution_count": 6,
   "metadata": {},
   "outputs": [
    {
     "ename": "NameError",
     "evalue": "name 'article_title' is not defined",
     "output_type": "error",
     "traceback": [
      "\u001b[0;31m---------------------------------------------------------------------------\u001b[0m",
      "\u001b[0;31mNameError\u001b[0m                                 Traceback (most recent call last)",
      "\u001b[0;32m<ipython-input-6-bd5f15aa54ce>\u001b[0m in \u001b[0;36m<module>\u001b[0;34m\u001b[0m\n\u001b[1;32m     14\u001b[0m \u001b[0mspecific_revision_by_given_revision_id_df\u001b[0m \u001b[0;34m=\u001b[0m \u001b[0mquerier\u001b[0m\u001b[0;34m.\u001b[0m\u001b[0mspecific_rev_content_by_article_title\u001b[0m\u001b[0;34m(\u001b[0m\u001b[0marticle\u001b[0m\u001b[0;34m=\u001b[0m\u001b[0;34m'bioglass'\u001b[0m\u001b[0;34m,\u001b[0m \u001b[0mrev_id\u001b[0m\u001b[0;34m=\u001b[0m\u001b[0;36m189370281\u001b[0m\u001b[0;34m)\u001b[0m\u001b[0;34m\u001b[0m\u001b[0;34m\u001b[0m\u001b[0m\n\u001b[1;32m     15\u001b[0m \u001b[0;34m\u001b[0m\u001b[0m\n\u001b[0;32m---> 16\u001b[0;31m \u001b[0mrange_revisions_by_given_start_to_end_revision_ids_df\u001b[0m \u001b[0;34m=\u001b[0m \u001b[0mquerier\u001b[0m\u001b[0;34m.\u001b[0m\u001b[0mrange_rev_content_by_article_title\u001b[0m\u001b[0;34m(\u001b[0m\u001b[0marticle\u001b[0m\u001b[0;34m=\u001b[0m\u001b[0;34m'bioglass'\u001b[0m\u001b[0;34m,\u001b[0m  \u001b[0mstart_rev_id\u001b[0m\u001b[0;34m=\u001b[0m\u001b[0;36m18064039\u001b[0m\u001b[0;34m,\u001b[0m  \u001b[0mend_rev_id\u001b[0m\u001b[0;34m=\u001b[0m\u001b[0;36m207995408\u001b[0m\u001b[0;34m)\u001b[0m\u001b[0;34m\u001b[0m\u001b[0;34m\u001b[0m\u001b[0m\n\u001b[0m\u001b[1;32m     17\u001b[0m \u001b[0;34m\u001b[0m\u001b[0m\n\u001b[1;32m     18\u001b[0m \u001b[0mrevision_ids_of_article_by_given_article_title_df\u001b[0m \u001b[0;34m=\u001b[0m \u001b[0mquerier\u001b[0m\u001b[0;34m.\u001b[0m\u001b[0mrev_ids_of_article\u001b[0m\u001b[0;34m(\u001b[0m\u001b[0marticle\u001b[0m\u001b[0;34m=\u001b[0m\u001b[0;34m'bioglass'\u001b[0m\u001b[0;34m)\u001b[0m\u001b[0;34m\u001b[0m\u001b[0;34m\u001b[0m\u001b[0m\n",
      "\u001b[0;32m~/wikiwho_wrapper/wikiwho_wrapper/queries.py\u001b[0m in \u001b[0;36mrange_rev_content_by_article_title\u001b[0;34m(self, article, start_rev_id, end_rev_id, o_rev_id, editor, token_id, out, _in)\u001b[0m\n\u001b[1;32m    268\u001b[0m \u001b[0;34m\u001b[0m\u001b[0m\n\u001b[1;32m    269\u001b[0m         response = self.api.range_rev_content_by_article_title(\n\u001b[0;32m--> 270\u001b[0;31m             article, start_rev_id, end_rev_id)\n\u001b[0m\u001b[1;32m    271\u001b[0m \u001b[0;34m\u001b[0m\u001b[0m\n\u001b[1;32m    272\u001b[0m         rows = ((response[\"article_title\"],\n",
      "\u001b[0;31mNameError\u001b[0m: name 'article_title' is not defined"
     ]
    }
   ],
   "source": [
    "from wikiwho_wrapper import WikiWhoAPI, APIQuerier\n",
    "\n",
    "api = WikiWhoAPI()\n",
    "\n",
    "querier = APIQuerier(api)\n",
    "\n",
    "all_content_by_given_article_title_df = querier.all_content(article='bioglass')\n",
    "all_content_by_given_page_id_df = querier.all_content(2161298)\n",
    "\n",
    "last_revision_by_given_article_title_df = querier.last_rev_content(article='bioglass')\n",
    "last_revision_by_given_page_id_df = querier.last_rev_content(2161298)\n",
    "\n",
    "specific_revision_by_given_article_title_df = querier.specific_rev_content_by_rev_id(rev_id=189370281)\n",
    "specific_revision_by_given_revision_id_df = querier.specific_rev_content_by_article_title(article='bioglass', rev_id=189370281)\n",
    "\n",
    "range_revisions_by_given_start_to_end_revision_ids_df = querier.range_rev_content_by_article_title(article='bioglass',  start_rev_id=18064039,  end_rev_id=207995408)\n",
    "\n",
    "revision_ids_of_article_by_given_article_title_df = querier.rev_ids_of_article(article='bioglass')\n",
    "revision_ids_of_article_by_given_page_id_df = querier.rev_ids_of_article(2161298)"
   ]
  }
 ],
 "metadata": {
  "kernelspec": {
   "display_name": "Python 3",
   "language": "python",
   "name": "python3"
  },
  "language_info": {
   "codemirror_mode": {
    "name": "ipython",
    "version": 3
   },
   "file_extension": ".py",
   "mimetype": "text/x-python",
   "name": "python",
   "nbconvert_exporter": "python",
   "pygments_lexer": "ipython3",
   "version": "3.6.7"
  }
 },
 "nbformat": 4,
 "nbformat_minor": 2
}
