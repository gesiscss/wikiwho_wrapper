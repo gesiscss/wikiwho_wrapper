{
 "cells": [
  {
   "cell_type": "code",
   "execution_count": null,
   "metadata": {},
   "outputs": [],
   "source": [
    "from wikiwho_wrapper import WikiWhoAPI, APIQuerier\n",
    "\n",
    "api = WikiWhoAPI()\n",
    "\n",
    "querier = APIQuerier(api)\n",
    "\n",
    "all_content_by_given_article_title_df = querier.all_content(article='bioglass')\n",
    "all_content_by_given_page_id_df = querier.all_content(2161298)\n",
    "\n",
    "last_revision_by_given_article_title_df = querier.last_rev_content(article='bioglass')\n",
    "last_revision_by_given_page_id_df = querier.last_rev_content(2161298)\n",
    "\n",
    "specific_revision_by_given_article_title_df = querier.specific_rev_content_by_rev_id(rev_id=189370281)\n",
    "specific_revision_by_given_revision_id_df = querier.specific_rev_content_by_article_title(article='bioglass', rev_id=189370281)\n",
    "\n",
    "range_revisions_by_given_start_to_end_revision_ids_df = querier.range_rev_content_by_article_title(article='bioglass',  start_rev_id=18064039,  end_rev_id=207995408)\n",
    "\n",
    "revision_ids_of_article_by_given_article_title_df = querier.rev_ids_of_article(article='bioglass')\n",
    "revision_ids_of_article_by_given_page_id_df = querier.rev_ids_of_article(2161298)"
   ]
  },
  {
   "cell_type": "code",
   "execution_count": null,
   "metadata": {},
   "outputs": [],
   "source": [
    "all_content_by_given_article_title_df\n",
    "# all_content_by_given_page_id_df"
   ]
  },
  {
   "cell_type": "code",
   "execution_count": null,
   "metadata": {},
   "outputs": [],
   "source": [
    "last_revision_by_given_article_title_df\n",
    "# last_revision_by_given_page_id_df"
   ]
  },
  {
   "cell_type": "code",
   "execution_count": null,
   "metadata": {},
   "outputs": [],
   "source": [
    "specific_revision_by_given_article_title_df\n",
    "# specific_revision_by_given_revision_id_df"
   ]
  },
  {
   "cell_type": "code",
   "execution_count": null,
   "metadata": {},
   "outputs": [],
   "source": [
    "range_revisions_by_given_start_to_end_revision_ids_df"
   ]
  },
  {
   "cell_type": "code",
   "execution_count": null,
   "metadata": {},
   "outputs": [],
   "source": [
    "revision_ids_of_article_by_given_article_title_df\n",
    "# revision_ids_of_article_by_given_page_id_df"
   ]
  }
 ],
 "metadata": {
  "kernelspec": {
   "display_name": "Python 3",
   "language": "python",
   "name": "python3"
  },
  "language_info": {
   "codemirror_mode": {
    "name": "ipython",
    "version": 3
   },
   "file_extension": ".py",
   "mimetype": "text/x-python",
   "name": "python",
   "nbconvert_exporter": "python",
   "pygments_lexer": "ipython3",
   "version": "3.6.7"
  }
 },
 "nbformat": 4,
 "nbformat_minor": 2
}
