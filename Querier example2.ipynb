{
 "cells": [
  {
   "cell_type": "markdown",
   "metadata": {},
   "source": [
    "### Qurey methods for correspondence of the WikiWhoAPI methods"
   ]
  },
  {
   "cell_type": "code",
   "execution_count": null,
   "metadata": {},
   "outputs": [],
   "source": [
    "from wikiwho_wrapper import WikiWhoAPI, APIQuerier\n",
    "\n",
    "api = WikiWhoAPI()\n",
    "\n",
    "querier = APIQuerier(api)\n",
    "\n",
    "all_content_by_given_article_title_df = querier.all_content(article='bioglass')\n",
    "all_content_by_given_page_id_df = querier.all_content(2161298)\n",
    "\n",
    "last_revision_by_given_article_title_df = querier.last_rev_content(article='bioglass')\n",
    "last_revision_by_given_page_id_df = querier.last_rev_content(2161298)\n",
    "\n",
    "specific_revision_by_given_article_title_df = querier.specific_rev_content_by_rev_id(rev_id=189370281)\n",
    "specific_revision_by_given_revision_id_df = querier.specific_rev_content_by_article_title(article='bioglass', rev_id=189370281)\n",
    "\n",
    "range_revisions_by_given_start_to_end_revision_ids_df = querier.range_rev_content_by_article_title(article='bioglass',  start_rev_id=18064039,  end_rev_id=207995408)\n",
    "\n",
    "revision_ids_of_article_by_given_article_title_df = querier.rev_ids_of_article(article='bioglass')\n",
    "revision_ids_of_article_by_given_page_id_df = querier.rev_ids_of_article(2161298)"
   ]
  },
  {
   "cell_type": "markdown",
   "metadata": {},
   "source": [
    "#### Get all content on an article, i.e. Outputs all tokens that have ever existed in a given article, including their change history for each."
   ]
  },
  {
   "cell_type": "code",
   "execution_count": null,
   "metadata": {},
   "outputs": [],
   "source": [
    "all_content_by_given_article_title_df\n",
    "# all_content_by_given_page_id_df"
   ]
  },
  {
   "cell_type": "markdown",
   "metadata": {},
   "source": [
    "#### Get the content of the most recent (last) revision of the given article, as available on Wikipedia."
   ]
  },
  {
   "cell_type": "code",
   "execution_count": null,
   "metadata": {},
   "outputs": [],
   "source": [
    "last_revision_by_given_article_title_df\n",
    "# last_revision_by_given_page_id_df"
   ]
  },
  {
   "cell_type": "markdown",
   "metadata": {},
   "source": [
    "#### Get the content of the given revision id."
   ]
  },
  {
   "cell_type": "code",
   "execution_count": null,
   "metadata": {},
   "outputs": [],
   "source": [
    "specific_revision_by_given_article_title_df\n",
    "# specific_revision_by_given_revision_id_df"
   ]
  },
  {
   "cell_type": "markdown",
   "metadata": {},
   "source": [
    "#### Get the content of a range of revisions of an article, by given article title, start revison id and end revison id."
   ]
  },
  {
   "cell_type": "code",
   "execution_count": null,
   "metadata": {},
   "outputs": [],
   "source": [
    "range_revisions_by_given_start_to_end_revision_ids_df"
   ]
  },
  {
   "cell_type": "markdown",
   "metadata": {},
   "source": [
    "#### Get revision IDs of an article by given article title or page id."
   ]
  },
  {
   "cell_type": "code",
   "execution_count": null,
   "metadata": {},
   "outputs": [],
   "source": [
    "revision_ids_of_article_by_given_article_title_df\n",
    "# revision_ids_of_article_by_given_page_id_df"
   ]
  }
 ],
 "metadata": {
  "kernelspec": {
   "display_name": "Python 3",
   "language": "python",
   "name": "python3"
  },
  "language_info": {
   "codemirror_mode": {
    "name": "ipython",
    "version": 3
   },
   "file_extension": ".py",
   "mimetype": "text/x-python",
   "name": "python",
   "nbconvert_exporter": "python",
   "pygments_lexer": "ipython3",
   "version": "3.6.7"
  }
 },
 "nbformat": 4,
 "nbformat_minor": 2
}
